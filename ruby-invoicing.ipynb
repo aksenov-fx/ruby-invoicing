{
 "cells": [
  {
   "cell_type": "code",
   "execution_count": null,
   "metadata": {},
   "outputs": [],
   "source": [
    "require \"awesome_print\"\n",
    "\n",
    "# Framework Classes\n",
    "require_relative \"FrameworkClasses/Users\"\n",
    "require_relative \"FrameworkClasses/Auth\"\n",
    "require_relative \"FrameworkClasses/Permissions\"\n",
    "require_relative \"FrameworkClasses/RolesToPermissions\"\n",
    "require_relative \"FrameworkClasses/PermissionReader\"\n",
    "require_relative \"FrameworkClasses/Audit\"\n",
    "\n",
    "# Business Logic Classes\n",
    "require_relative \"BusinessLogicClasses/SalesOrder\"\n",
    "require_relative \"BusinessLogicClasses/Invoice\"\n",
    "\n",
    "# Modules\n",
    "require_relative \"Modules/CommonClassMethods\"\n",
    "require_relative \"Modules/CommonCreateMethods\"\n",
    "require_relative \"Modules/CommonReadMethod\"\n",
    "require_relative \"Modules/CommonUpdateMethod\"\n",
    "require_relative \"Modules/CommonPrintMethod\""
   ]
  },
  {
   "cell_type": "code",
   "execution_count": 15,
   "metadata": {},
   "outputs": [
    {
     "data": {
      "text/plain": [
       "#<Class:0x00000220366b6cc0>::CommonInstanceMethods"
      ]
     },
     "execution_count": 15,
     "metadata": {},
     "output_type": "execute_result"
    }
   ],
   "source": [
    "module CommonInstanceMethods\n",
    "    include CommonCreateMethods\n",
    "    include CommonReadMethod\n",
    "    include CommonUpdateMethod\n",
    "    include CommonPrintMethod\n",
    "end"
   ]
  },
  {
   "cell_type": "code",
   "execution_count": 18,
   "metadata": {},
   "outputs": [
    {
     "name": "stdout",
     "output_type": "stream",
     "text": [
      "User \"Admin\" was created or updated\n",
      "User \"Kate\" was created or updated\n",
      "User \"Fluffy\" was created or updated\n"
     ]
    },
    {
     "data": {
      "text/plain": [
       "[\"Admin\", \"Kate\", \"Fluffy\"]"
      ]
     },
     "execution_count": 18,
     "metadata": {},
     "output_type": "execute_result"
    }
   ],
   "source": [
    "Users.create_or_update(\"Admin\", \"god\")\n",
    "Users.create_or_update(\"Kate\", \"123\")\n",
    "Users.create_or_update(\"Fluffy\", \"dog\")\n",
    "\n",
    "Users.get"
   ]
  },
  {
   "cell_type": "code",
   "execution_count": 19,
   "metadata": {},
   "outputs": [
    {
     "data": {
      "text/plain": [
       "[:Dog]"
      ]
     },
     "execution_count": 19,
     "metadata": {},
     "output_type": "execute_result"
    }
   ],
   "source": [
    "Permissions.add(\"Admin\", \"ASD\", :Administrator)\n",
    "Permissions.add(\"Kate\", \"ASD\", :InvoicingSpecialist)\n",
    "Permissions.add(\"Fluffy\", \"ASD\", :Dog)"
   ]
  },
  {
   "cell_type": "code",
   "execution_count": 20,
   "metadata": {},
   "outputs": [
    {
     "data": {
      "text/plain": [
       "[]"
      ]
     },
     "execution_count": 20,
     "metadata": {},
     "output_type": "execute_result"
    }
   ],
   "source": [
    "RolesToPermissions.set( :Administrator,       :Invoice,    :do_create,       [:create])\n",
    "RolesToPermissions.set( :Administrator,       :Invoice,    :read,            [:amount, :paid_amount, :client, :name, :is_paid])\n",
    "RolesToPermissions.set( :Administrator,       :Invoice,    :update,          [:amount, :paid_amount, :client, :name, :is_paid])\n",
    "RolesToPermissions.set( :Administrator,       :Invoice,    :do_delete,       [:delete])\n",
    "\n",
    "RolesToPermissions.set( :InvoicingSpecialist, :Invoice,    :do_create,       [:create])\n",
    "RolesToPermissions.set( :InvoicingSpecialist, :Invoice,    :read,            [:amount, :paid_amount, :client, :name, :is_paid])\n",
    "RolesToPermissions.set( :InvoicingSpecialist, :Invoice,    :update,          [:amount, :paid_amount, :is_paid])\n",
    "RolesToPermissions.set( :InvoicingSpecialist,  :Invoice,   :do_delete,       [:delete])\n",
    "\n",
    "# --- #\n",
    "\n",
    "RolesToPermissions.set( :Administrator,       :SalesOrder, :do_create,       [:create])\n",
    "RolesToPermissions.set( :Administrator,       :SalesOrder, :read,            [:amount, :paid_amount, :client, :name, :is_paid])\n",
    "RolesToPermissions.set( :Administrator,       :SalesOrder, :update,          [:amount, :paid_amount, :client, :name, :is_paid])\n",
    "RolesToPermissions.set( :Administrator,       :SalesOrder, :do_delete,       [:amount, :paid_amount, :client, :name, :is_paid])\n",
    "\n",
    "RolesToPermissions.set( :InvoicingSpecialist, :SalesOrder, :do_create,       [:create])\n",
    "RolesToPermissions.set( :InvoicingSpecialist, :SalesOrder, :read,            [:amount, :paid_amount, :client, :name, :is_paid])\n",
    "RolesToPermissions.set( :InvoicingSpecialist, :SalesOrder, :update,          [:amount, :recognized])\n",
    "RolesToPermissions.set( :InvoicingSpecialist, :SalesOrder, :do_delete,       [])\n"
   ]
  },
  {
   "cell_type": "code",
   "execution_count": 21,
   "metadata": {},
   "outputs": [
    {
     "name": "stdout",
     "output_type": "stream",
     "text": [
      "Logged in as Admin\n"
     ]
    }
   ],
   "source": [
    "Auth.login(\"Admin\", \"god\")"
   ]
  },
  {
   "cell_type": "code",
   "execution_count": null,
   "metadata": {},
   "outputs": [],
   "source": [
    "Auth.login(\"Kate\", \"123\")"
   ]
  },
  {
   "cell_type": "code",
   "execution_count": 22,
   "metadata": {},
   "outputs": [
    {
     "name": "stdout",
     "output_type": "stream",
     "text": [
      "SalesOrder was created:\n",
      "{\n",
      "          :name => \"SO-1\",\n",
      "        :amount => 100,\n",
      "        :client => \"ASD\",\n",
      "    :recognized => false\n",
      "}\n"
     ]
    },
    {
     "data": {
      "text/plain": [
       "#<#<Class:0x00000220366b6cc0>::SalesOrder:0x0000022035df4358 @entity=:SalesOrder, @values={:name=>\"SO-1\", :amount=>100, :client=>\"ASD\", :recognized=>false}>"
      ]
     },
     "execution_count": 22,
     "metadata": {},
     "output_type": "execute_result"
    }
   ],
   "source": [
    "so1 = SalesOrder.new ( \n",
    "    {name: \"SO-1\", \n",
    "    amount: 100,\n",
    "    client: \"ASD\", \n",
    "    recognized: false} )"
   ]
  },
  {
   "cell_type": "code",
   "execution_count": 23,
   "metadata": {},
   "outputs": [
    {
     "name": "stdout",
     "output_type": "stream",
     "text": [
      "SalesOrder was created:\n",
      "{\n",
      "          :name => \"so1\",\n",
      "        :amount => 100,\n",
      "        :client => \"ASD\",\n",
      "    :recognized => false\n",
      "}\n"
     ]
    },
    {
     "data": {
      "text/plain": [
       "#<#<Class:0x00000220366b6cc0>::SalesOrder:0x0000022036499938 @entity=:SalesOrder, @values={:name=>\"so1\", :amount=>100, :client=>\"ASD\", :recognized=>false}>"
      ]
     },
     "execution_count": 23,
     "metadata": {},
     "output_type": "execute_result"
    }
   ],
   "source": [
    "so1 = SalesOrder.new ( \n",
    "    {name: \"so1\", \n",
    "    amount: 100,\n",
    "    client: \"ASD\", \n",
    "    recognized: false} )"
   ]
  },
  {
   "cell_type": "code",
   "execution_count": 24,
   "metadata": {},
   "outputs": [
    {
     "name": "stdout",
     "output_type": "stream",
     "text": [
      "Admin changed the following values for SO-1:\n",
      "{\n",
      "          :name => \"SO-1\",\n",
      "        :amount => 100,\n",
      "        :client => \"ASD\",\n",
      "    :recognized => false\n",
      "}\n",
      "New values:\n",
      "{\n",
      "          :name => \"SO-1\",\n",
      "        :amount => 100,\n",
      "        :client => \"ASD\",\n",
      "    :recognized => false\n",
      "}\n",
      "\n",
      "Admin changed the following values for so1:\n",
      "{\n",
      "          :name => \"so1\",\n",
      "        :amount => 100,\n",
      "        :client => \"ASD\",\n",
      "    :recognized => false\n",
      "}\n",
      "New values:\n",
      "{\n",
      "          :name => \"so1\",\n",
      "        :amount => 100,\n",
      "        :client => \"ASD\",\n",
      "    :recognized => false\n",
      "}\n",
      "\n"
     ]
    }
   ],
   "source": [
    "SalesOrder::Log.print"
   ]
  },
  {
   "cell_type": "code",
   "execution_count": 27,
   "metadata": {},
   "outputs": [
    {
     "name": "stdout",
     "output_type": "stream",
     "text": [
      "Invoice was created:\n",
      "{\n",
      "           :name => \"ASD-1\",\n",
      "         :amount => 100,\n",
      "    :paid_amount => 0,\n",
      "         :client => \"ASD\",\n",
      "        :is_paid => false\n",
      "}\n"
     ]
    },
    {
     "data": {
      "text/plain": [
       "#<#<Class:0x00000220366b6cc0>::Invoice:0x000002203661e1a0 @entity=:Invoice, @values={:name=>\"ASD-1\", :amount=>100, :paid_amount=>0, :client=>\"ASD\", :is_paid=>false}>"
      ]
     },
     "execution_count": 27,
     "metadata": {},
     "output_type": "execute_result"
    }
   ],
   "source": [
    "invoice1 = so1.create_invoice(\"ASD-1\")"
   ]
  },
  {
   "cell_type": "code",
   "execution_count": 28,
   "metadata": {},
   "outputs": [
    {
     "name": "stdout",
     "output_type": "stream",
     "text": [
      "Invoice was updated. New values:\n",
      "{\n",
      "           :name => \"ASD-3\",\n",
      "         :amount => 120,\n",
      "    :paid_amount => 0,\n",
      "         :client => \"ASD\",\n",
      "        :is_paid => false\n",
      "}\n"
     ]
    }
   ],
   "source": [
    "invoice1.update( amount: 120, name: \"ASD-3\"  )\n",
    "#invoice1.read([:amount, :is_paid])"
   ]
  },
  {
   "cell_type": "code",
   "execution_count": 29,
   "metadata": {},
   "outputs": [
    {
     "name": "stdout",
     "output_type": "stream",
     "text": [
      "Invoice was updated. New values:\n",
      "{\n",
      "           :name => \"ASD-3\",\n",
      "         :amount => 120,\n",
      "    :paid_amount => 20,\n",
      "         :client => \"ASD\",\n",
      "        :is_paid => false\n",
      "}\n"
     ]
    }
   ],
   "source": [
    "invoice1.pay(20)"
   ]
  },
  {
   "cell_type": "code",
   "execution_count": 30,
   "metadata": {},
   "outputs": [
    {
     "name": "stdout",
     "output_type": "stream",
     "text": [
      "Admin changed the following values for ASD-1:\n",
      "{\n",
      "           :name => \"ASD-1\",\n",
      "         :amount => 100,\n",
      "    :paid_amount => 0,\n",
      "         :client => \"ASD\",\n",
      "        :is_paid => false\n",
      "}\n",
      "New values:\n",
      "{\n",
      "           :name => \"ASD-1\",\n",
      "         :amount => 100,\n",
      "    :paid_amount => 0,\n",
      "         :client => \"ASD\",\n",
      "        :is_paid => false\n",
      "}\n",
      "\n",
      "Admin changed the following values for ASD-3:\n",
      "{\n",
      "    :amount => 120,\n",
      "      :name => \"ASD-3\"\n",
      "}\n",
      "New values:\n",
      "{\n",
      "           :name => \"ASD-3\",\n",
      "         :amount => 120,\n",
      "    :paid_amount => 0,\n",
      "         :client => \"ASD\",\n",
      "        :is_paid => false\n",
      "}\n",
      "\n",
      "Admin changed the following values for ASD-3:\n",
      "{\n",
      "    :paid_amount => 20\n",
      "}\n",
      "New values:\n",
      "{\n",
      "           :name => \"ASD-3\",\n",
      "         :amount => 120,\n",
      "    :paid_amount => 20,\n",
      "         :client => \"ASD\",\n",
      "        :is_paid => false\n",
      "}\n",
      "\n"
     ]
    }
   ],
   "source": [
    "Invoice::Log.print"
   ]
  },
  {
   "cell_type": "code",
   "execution_count": 31,
   "metadata": {},
   "outputs": [
    {
     "name": "stdout",
     "output_type": "stream",
     "text": [
      "Admin changed the following values for ASD-1:\n",
      "{\n",
      "           :name => \"ASD-1\",\n",
      "         :amount => 100,\n",
      "    :paid_amount => 0,\n",
      "         :client => \"ASD\",\n",
      "        :is_paid => false\n",
      "}\n",
      "New values:\n",
      "{\n",
      "           :name => \"ASD-1\",\n",
      "         :amount => 100,\n",
      "    :paid_amount => 0,\n",
      "         :client => \"ASD\",\n",
      "        :is_paid => false\n",
      "}\n",
      "\n"
     ]
    }
   ],
   "source": [
    "Invoice::Log.select_entries(amount: 100, is_paid: false)"
   ]
  },
  {
   "cell_type": "code",
   "execution_count": null,
   "metadata": {},
   "outputs": [],
   "source": [
    "Invoice::Log.clear_log"
   ]
  },
  {
   "cell_type": "code",
   "execution_count": 32,
   "metadata": {},
   "outputs": [
    {
     "name": "stdout",
     "output_type": "stream",
     "text": [
      "# ---------- #\n",
      "\n",
      "SalesOrder so1\n",
      "\n",
      "Name: so1\n",
      "Amount: 100\n",
      "Client: ASD\n",
      "Recognized: false\n",
      "\n",
      "# ---------- #\n"
     ]
    }
   ],
   "source": [
    "so1.print"
   ]
  },
  {
   "cell_type": "code",
   "execution_count": 33,
   "metadata": {},
   "outputs": [
    {
     "name": "stdout",
     "output_type": "stream",
     "text": [
      "# ---------- #\n",
      "\n",
      "Invoice ASD-3\n",
      "\n",
      "Name: ASD-3\n",
      "Amount: 120\n",
      "Paid_amount: 20\n",
      "Client: ASD\n",
      "Is_paid: false\n",
      "\n",
      "# ---------- #\n"
     ]
    }
   ],
   "source": [
    "invoice1.print"
   ]
  }
 ],
 "metadata": {
  "kernelspec": {
   "display_name": "Ruby 3.2.2",
   "language": "ruby",
   "name": "ruby"
  },
  "language_info": {
   "file_extension": ".rb",
   "mimetype": "application/x-ruby",
   "name": "ruby",
   "version": "3.2.2"
  }
 },
 "nbformat": 4,
 "nbformat_minor": 2
}
