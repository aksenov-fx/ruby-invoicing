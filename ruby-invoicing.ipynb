{
 "cells": [
  {
   "cell_type": "code",
   "execution_count": 1,
   "metadata": {},
   "outputs": [
    {
     "data": {
      "text/plain": [
       "true"
      ]
     },
     "execution_count": 1,
     "metadata": {},
     "output_type": "execute_result"
    }
   ],
   "source": [
    "require \"awesome_print\""
   ]
  },
  {
   "cell_type": "code",
   "execution_count": 3,
   "metadata": {},
   "outputs": [
    {
     "data": {
      "text/plain": [
       ":sanitize"
      ]
     },
     "execution_count": 3,
     "metadata": {},
     "output_type": "execute_result"
    }
   ],
   "source": [
    "class Sanitizer\n",
    "  def self.sanitize(values)\n",
    "    return values\n",
    "  end\n",
    "end"
   ]
  },
  {
   "cell_type": "code",
   "execution_count": 4,
   "metadata": {},
   "outputs": [
    {
     "data": {
      "text/plain": [
       ":get_user_password"
      ]
     },
     "execution_count": 4,
     "metadata": {},
     "output_type": "execute_result"
    }
   ],
   "source": [
    "class Users\n",
    "    \n",
    "    @@users ||= {}\n",
    "\n",
    "    def self.get\n",
    "        @@users.keys\n",
    "    end\n",
    "    \n",
    "    def self.create_or_update(user, password)\n",
    "        @@users[user] = password\n",
    "        puts \"User \\\"#{user}\\\" was created or updated\"\n",
    "    end\n",
    "\n",
    "    def self.get_user_password(user)\n",
    "        @@users[user]\n",
    "    end\n",
    "\n",
    "end"
   ]
  },
  {
   "cell_type": "code",
   "execution_count": 5,
   "metadata": {},
   "outputs": [
    {
     "data": {
      "text/plain": [
       ":login"
      ]
     },
     "execution_count": 5,
     "metadata": {},
     "output_type": "execute_result"
    }
   ],
   "source": [
    "class Auth\n",
    "    \n",
    "    def self.current_user\n",
    "        @@current_user\n",
    "    end\n",
    "\n",
    "    def self.login(user, password)\n",
    "        if Users.get_user_password(user) == password \n",
    "            @@current_user = user\n",
    "            puts \"Logged in as #{user}\"\n",
    "        else\n",
    "            \"Wrong user/password\"\n",
    "        end\n",
    "    end\n",
    "\n",
    "end"
   ]
  },
  {
   "cell_type": "code",
   "execution_count": 6,
   "metadata": {},
   "outputs": [
    {
     "data": {
      "text/plain": [
       ":get_roles"
      ]
     },
     "execution_count": 6,
     "metadata": {},
     "output_type": "execute_result"
    }
   ],
   "source": [
    "class Permissions\n",
    "\n",
    "  @@Permissions ||= {}\n",
    "\n",
    "  def self.add(user, client, role)\n",
    "    @@Permissions[[user, client]] ||= []\n",
    "    @@Permissions[[user, client]] << role unless @@Permissions[[user, client]].include?(role)\n",
    "  end\n",
    "\n",
    "  def self.get\n",
    "    @@Permissions\n",
    "  end\n",
    "\n",
    "  def self.get_roles(client)\n",
    "    raise \"#{Auth.current_user} does not have a defined role for client #{client}\" unless @@Permissions[[Auth.current_user, client]] \n",
    "    @@Permissions[[Auth.current_user, client]]\n",
    "  end\n",
    "  \n",
    "end"
   ]
  },
  {
   "cell_type": "code",
   "execution_count": 7,
   "metadata": {},
   "outputs": [
    {
     "data": {
      "text/plain": [
       ":get"
      ]
     },
     "execution_count": 7,
     "metadata": {},
     "output_type": "execute_result"
    }
   ],
   "source": [
    "class RolesToPermissions\n",
    "\n",
    "  @@roles_to_permissions ||= {}\n",
    "\n",
    "  def self.set(role, entity, operation, fields)\n",
    "    @@roles_to_permissions[[role, entity]] ||= {}\n",
    "    @@roles_to_permissions[[role, entity]][operation] = fields\n",
    "  end\n",
    "  \n",
    "  def self.get(roles, entity)\n",
    "    roles.map {|role| @@roles_to_permissions[[role, entity]] }\n",
    "  end\n",
    "\n",
    "end"
   ]
  },
  {
   "cell_type": "code",
   "execution_count": 8,
   "metadata": {},
   "outputs": [
    {
     "data": {
      "text/plain": [
       ":has_permission?"
      ]
     },
     "execution_count": 8,
     "metadata": {},
     "output_type": "execute_result"
    }
   ],
   "source": [
    "class PermissionReader\n",
    "\n",
    "  def self.has_permission?( entity, fields, client, operation )\n",
    "\n",
    "    roles_for_client = Permissions.get_roles(client) # [:Administrator, ...]\n",
    "    roles_permissions = RolesToPermissions.get(roles_for_client, entity) # [{:do_create=>[:create], ... }, {:do_create=>[:create], ... }]\n",
    "\n",
    "    roles_permissions = roles_permissions.reduce({}) do |acc, hash|\n",
    "      acc.merge(hash) do |key, old_val, new_val|\n",
    "        (old_val + new_val).uniq\n",
    "      end\n",
    "    end\n",
    "\n",
    "    missing_permissions = fields - roles_permissions[operation]\n",
    "\n",
    "    raise \"Permission denied for #{Auth.current_user} to perform #{operation} on #{entity}\n",
    "           Missing permissions: #{missing_permissions}\" if missing_permissions != []; return\n",
    "\n",
    "  end\n",
    "\n",
    "end"
   ]
  },
  {
   "cell_type": "code",
   "execution_count": 9,
   "metadata": {},
   "outputs": [
    {
     "data": {
      "text/plain": [
       ":clear_log"
      ]
     },
     "execution_count": 9,
     "metadata": {},
     "output_type": "execute_result"
    }
   ],
   "source": [
    "class Audit\n",
    "\n",
    "  def initialize\n",
    "    @log = []\n",
    "  end\n",
    "\n",
    "  def insert(changed_fields, all_fields)\n",
    "    @log << {\n",
    "      name: all_fields[:name].dup.freeze,\n",
    "      user: Auth.current_user.dup.freeze,\n",
    "      changed_fields: changed_fields.dup.freeze,\n",
    "      all_fields: all_fields.dup.freeze\n",
    "    }\n",
    "  end\n",
    "\n",
    "  def select_entries(**fields)\n",
    "    @log.each do |log_entry|\n",
    "\n",
    "      print_log_entries(log_entry) if\n",
    "        fields.all? { |key, value|\n",
    "        log_entry[:changed_fields][key] == value }\n",
    "\n",
    "    end; return\n",
    "  end\n",
    "\n",
    "  def print\n",
    "    @log.each do | log_entry |\n",
    "      print_log_entries(log_entry)\n",
    "    end; return\n",
    "  end\n",
    "\n",
    "  def print_log_entries(log_entry)\n",
    "    puts \"#{log_entry[:user]} changed the following values for #{log_entry[:name]}:\"\n",
    "    ap log_entry[:changed_fields]\n",
    "    \n",
    "    puts \"New values:\"\n",
    "    ap log_entry[:all_fields]\n",
    "    puts\n",
    "  end\n",
    "\n",
    "  def clear_log\n",
    "    @log = []\n",
    "  end\n",
    "\n",
    "end"
   ]
  },
  {
   "cell_type": "code",
   "execution_count": 10,
   "metadata": {},
   "outputs": [
    {
     "data": {
      "text/plain": [
       ":validate_data_structure"
      ]
     },
     "execution_count": 10,
     "metadata": {},
     "output_type": "execute_result"
    }
   ],
   "source": [
    "module CommonClassMethods\n",
    "\n",
    "    def validate_data_structure(values)\n",
    "      new_structure = values.each        { |k, v| values[k] = false if v == true }\n",
    "      new_structure = values.map         { |k, v| {k => v.class} }\n",
    "      old_structure = self::Structure.map{ |k, v| {k => v.class} }\n",
    "\n",
    "      mismatches    = new_structure - old_structure\n",
    "      raise \"Unexpected key or value type: #{mismatches}\" if mismatches != []\n",
    "    end\n",
    "\n",
    "end"
   ]
  },
  {
   "cell_type": "code",
   "execution_count": 11,
   "metadata": {},
   "outputs": [
    {
     "data": {
      "text/plain": [
       ":create"
      ]
     },
     "execution_count": 11,
     "metadata": {},
     "output_type": "execute_result"
    }
   ],
   "source": [
    "module CommonCreateMethods\n",
    "\n",
    "    def initialize(values)\n",
    "        values = Sanitizer.sanitize(values)\n",
    "        @entity = self.class.name.split('::').last.to_sym # => :Invoice, :SalesOrder etc.\n",
    "        create(values)\n",
    "    end\n",
    "\n",
    "    def create(values)                # ( entity,  fields,   client,          operation )\n",
    "        PermissionReader.has_permission?(@entity, [:create], values[:client], :do_create )\n",
    "        \n",
    "        self.class.validate_data_structure( values )\n",
    "        self.class.validate_logic(values)\n",
    "\n",
    "        @values = values\n",
    "        self.class::Log.insert(values, @values)\n",
    "    \n",
    "        puts \"#{@entity} was created:\"\n",
    "        ap @values\n",
    "    end\n",
    "end"
   ]
  },
  {
   "cell_type": "code",
   "execution_count": 12,
   "metadata": {},
   "outputs": [
    {
     "data": {
      "text/plain": [
       ":read"
      ]
     },
     "execution_count": 12,
     "metadata": {},
     "output_type": "execute_result"
    }
   ],
   "source": [
    "module CommonReadMethod\n",
    "\n",
    "  def read(fields)\n",
    "    PermissionReader.has_permission?( @entity, fields, @values[:client], :read )\n",
    "    @values.slice(*fields)\n",
    "  end\n",
    "end"
   ]
  },
  {
   "cell_type": "code",
   "execution_count": 13,
   "metadata": {},
   "outputs": [
    {
     "data": {
      "text/plain": [
       ":update"
      ]
     },
     "execution_count": 13,
     "metadata": {},
     "output_type": "execute_result"
    }
   ],
   "source": [
    "module CommonUpdateMethod\n",
    "\n",
    "  def update(fields)\n",
    "\n",
    "  #[1] Define an updated state\n",
    "    new_values = @values.merge(fields)\n",
    "\n",
    "  #[2] Check permissions and validation\n",
    "    PermissionReader.has_permission?( @entity, fields.keys, @values[:client], :update )\n",
    "\n",
    "    self.class.validate_data_structure(new_values)\n",
    "    fields = self.class.transition(new_values, fields)\n",
    "    self.class.validate_logic(new_values)\n",
    "\n",
    "  #[3] Update entity with new values and write audit\n",
    "  \n",
    "    #exclude fields that did not change\n",
    "    fields = fields.reject { |key, value| @values[key] == value }\n",
    "\n",
    "    @values.merge!(fields)\n",
    "    self.class::Log.insert(fields, @values)\n",
    "\n",
    "  #[4] Print result\n",
    "    puts \"#{@entity} was updated. New values:\"\n",
    "    ap @values\n",
    "\n",
    "  end\n",
    "end"
   ]
  },
  {
   "cell_type": "code",
   "execution_count": 14,
   "metadata": {},
   "outputs": [
    {
     "data": {
      "text/plain": [
       ":print"
      ]
     },
     "execution_count": 14,
     "metadata": {},
     "output_type": "execute_result"
    }
   ],
   "source": [
    "module CommonPrintMethod\n",
    "\n",
    "  def print\n",
    "    puts \"# ---------- #\"\n",
    "    puts\n",
    "    puts \"#{@entity} #{@values[:name]}\"\n",
    "    puts\n",
    "    @values.each {|key, value| puts \"#{key.capitalize}: #{value}\" }\n",
    "    puts\n",
    "    puts \"# ---------- #\"\n",
    "  end\n",
    "\n",
    "end"
   ]
  },
  {
   "cell_type": "code",
   "execution_count": 15,
   "metadata": {},
   "outputs": [
    {
     "data": {
      "text/plain": [
       "#<Class:0x00000220366b6cc0>::CommonInstanceMethods"
      ]
     },
     "execution_count": 15,
     "metadata": {},
     "output_type": "execute_result"
    }
   ],
   "source": [
    "module CommonInstanceMethods    \n",
    "    include CommonCreateMethods\n",
    "    include CommonReadMethod\n",
    "    include CommonUpdateMethod\n",
    "    include CommonPrintMethod\n",
    "end"
   ]
  },
  {
   "cell_type": "code",
   "execution_count": 16,
   "metadata": {},
   "outputs": [
    {
     "data": {
      "text/plain": [
       ":create_invoice"
      ]
     },
     "execution_count": 16,
     "metadata": {},
     "output_type": "execute_result"
    }
   ],
   "source": [
    "class SalesOrder\n",
    "    extend CommonClassMethods\n",
    "    include CommonInstanceMethods\n",
    "    \n",
    "    ClassName ||= self.name.split('::').last.to_sym\n",
    "    Log ||= Audit.new\n",
    "\n",
    "    Structure ||= {\n",
    "      name: \"\", \n",
    "      amount: 0,\n",
    "      client: \"\", \n",
    "      recognized: false\n",
    "    }\n",
    "\n",
    "  # -------------------- #\n",
    "\n",
    "    def self.validate_logic(new_values)\n",
    "      return\n",
    "    end\n",
    "  \n",
    "    def self.transition(values, fields)\n",
    "      fields\n",
    "    end\n",
    "\n",
    "    def create_invoice(invoice_name)\n",
    "      Invoice.new(\n",
    "        {name: invoice_name, \n",
    "         amount: @values[:amount], \n",
    "         paid_amount: 0,\n",
    "         client: @values[:client], \n",
    "         is_paid: false}\n",
    "      )\n",
    "    end\n",
    "\n",
    "  end"
   ]
  },
  {
   "cell_type": "code",
   "execution_count": 26,
   "metadata": {},
   "outputs": [
    {
     "data": {
      "text/plain": [
       ":pay"
      ]
     },
     "execution_count": 26,
     "metadata": {},
     "output_type": "execute_result"
    }
   ],
   "source": [
    "class Invoice\n",
    "  extend CommonClassMethods\n",
    "  include CommonInstanceMethods\n",
    "  \n",
    "  Log ||= Audit.new\n",
    " \n",
    "  Structure ||= {\n",
    "    name: \"\", \n",
    "    amount: 0,\n",
    "    paid_amount: 0,\n",
    "    client: \"\",\n",
    "    is_paid: false\n",
    "  }\n",
    "\n",
    "  # -------------------- #\n",
    "\n",
    "  def self.validate_logic(new_values)\n",
    "    if new_values[:amount] < 100\n",
    "      raise \"money is smol\"\n",
    "    end\n",
    "  end\n",
    "\n",
    "  def self.transition(values, fields)\n",
    "    #is_paid = true/false, based on amount and paid_amount\n",
    "    values[:amount] <= values[:paid_amount] ?\n",
    "      fields.merge!(is_paid: true) :\n",
    "      fields.merge!(is_paid: false)\n",
    "  end\n",
    "\n",
    "  def pay(sum)\n",
    "    paid_amount = @values.slice(:paid_amount)\n",
    "    paid_amount[:paid_amount] += sum\n",
    "    update(paid_amount)\n",
    "  end\n",
    "\n",
    "end"
   ]
  },
  {
   "cell_type": "code",
   "execution_count": 18,
   "metadata": {},
   "outputs": [
    {
     "name": "stdout",
     "output_type": "stream",
     "text": [
      "User \"Admin\" was created or updated\n",
      "User \"Kate\" was created or updated\n",
      "User \"Fluffy\" was created or updated\n"
     ]
    },
    {
     "data": {
      "text/plain": [
       "[\"Admin\", \"Kate\", \"Fluffy\"]"
      ]
     },
     "execution_count": 18,
     "metadata": {},
     "output_type": "execute_result"
    }
   ],
   "source": [
    "Users.create_or_update(\"Admin\", \"god\")\n",
    "Users.create_or_update(\"Kate\", \"123\")\n",
    "Users.create_or_update(\"Fluffy\", \"dog\")\n",
    "\n",
    "Users.get"
   ]
  },
  {
   "cell_type": "code",
   "execution_count": 19,
   "metadata": {},
   "outputs": [
    {
     "data": {
      "text/plain": [
       "[:Dog]"
      ]
     },
     "execution_count": 19,
     "metadata": {},
     "output_type": "execute_result"
    }
   ],
   "source": [
    "Permissions.add(\"Admin\", \"ASD\", :Administrator)\n",
    "Permissions.add(\"Kate\", \"ASD\", :InvoicingSpecialist)\n",
    "Permissions.add(\"Fluffy\", \"ASD\", :Dog)"
   ]
  },
  {
   "cell_type": "code",
   "execution_count": 20,
   "metadata": {},
   "outputs": [
    {
     "data": {
      "text/plain": [
       "[]"
      ]
     },
     "execution_count": 20,
     "metadata": {},
     "output_type": "execute_result"
    }
   ],
   "source": [
    "RolesToPermissions.set( :Administrator,       :Invoice,    :do_create,       [:create])\n",
    "RolesToPermissions.set( :Administrator,       :Invoice,    :read,            [:amount, :paid_amount, :client, :name, :is_paid])\n",
    "RolesToPermissions.set( :Administrator,       :Invoice,    :update,          [:amount, :paid_amount, :client, :name, :is_paid])\n",
    "RolesToPermissions.set( :Administrator,       :Invoice,    :do_delete,       [:delete])\n",
    "\n",
    "RolesToPermissions.set( :InvoicingSpecialist, :Invoice,    :do_create,       [:create])\n",
    "RolesToPermissions.set( :InvoicingSpecialist, :Invoice,    :read,            [:amount, :paid_amount, :client, :name, :is_paid])\n",
    "RolesToPermissions.set( :InvoicingSpecialist, :Invoice,    :update,          [:amount, :paid_amount, :is_paid])\n",
    "RolesToPermissions.set( :InvoicingSpecialist,  :Invoice,   :do_delete,       [:delete])\n",
    "\n",
    "# --- #\n",
    "\n",
    "RolesToPermissions.set( :Administrator,       :SalesOrder, :do_create,       [:create])\n",
    "RolesToPermissions.set( :Administrator,       :SalesOrder, :read,            [:amount, :paid_amount, :client, :name, :is_paid])\n",
    "RolesToPermissions.set( :Administrator,       :SalesOrder, :update,          [:amount, :paid_amount, :client, :name, :is_paid])\n",
    "RolesToPermissions.set( :Administrator,       :SalesOrder, :do_delete,       [:amount, :paid_amount, :client, :name, :is_paid])\n",
    "\n",
    "RolesToPermissions.set( :InvoicingSpecialist, :SalesOrder, :do_create,       [:create])\n",
    "RolesToPermissions.set( :InvoicingSpecialist, :SalesOrder, :read,            [:amount, :paid_amount, :client, :name, :is_paid])\n",
    "RolesToPermissions.set( :InvoicingSpecialist, :SalesOrder, :update,          [:amount, :recognized])\n",
    "RolesToPermissions.set( :InvoicingSpecialist, :SalesOrder, :do_delete,       [])\n"
   ]
  },
  {
   "cell_type": "code",
   "execution_count": 21,
   "metadata": {},
   "outputs": [
    {
     "name": "stdout",
     "output_type": "stream",
     "text": [
      "Logged in as Admin\n"
     ]
    }
   ],
   "source": [
    "Auth.login(\"Admin\", \"god\")"
   ]
  },
  {
   "cell_type": "code",
   "execution_count": null,
   "metadata": {},
   "outputs": [],
   "source": [
    "Auth.login(\"Kate\", \"123\")"
   ]
  },
  {
   "cell_type": "code",
   "execution_count": 22,
   "metadata": {},
   "outputs": [
    {
     "name": "stdout",
     "output_type": "stream",
     "text": [
      "SalesOrder was created:\n",
      "{\n",
      "          :name => \"SO-1\",\n",
      "        :amount => 100,\n",
      "        :client => \"ASD\",\n",
      "    :recognized => false\n",
      "}\n"
     ]
    },
    {
     "data": {
      "text/plain": [
       "#<#<Class:0x00000220366b6cc0>::SalesOrder:0x0000022035df4358 @entity=:SalesOrder, @values={:name=>\"SO-1\", :amount=>100, :client=>\"ASD\", :recognized=>false}>"
      ]
     },
     "execution_count": 22,
     "metadata": {},
     "output_type": "execute_result"
    }
   ],
   "source": [
    "so1 = SalesOrder.new ( \n",
    "    {name: \"SO-1\", \n",
    "    amount: 100,\n",
    "    client: \"ASD\", \n",
    "    recognized: false} )"
   ]
  },
  {
   "cell_type": "code",
   "execution_count": 23,
   "metadata": {},
   "outputs": [
    {
     "name": "stdout",
     "output_type": "stream",
     "text": [
      "SalesOrder was created:\n",
      "{\n",
      "          :name => \"so1\",\n",
      "        :amount => 100,\n",
      "        :client => \"ASD\",\n",
      "    :recognized => false\n",
      "}\n"
     ]
    },
    {
     "data": {
      "text/plain": [
       "#<#<Class:0x00000220366b6cc0>::SalesOrder:0x0000022036499938 @entity=:SalesOrder, @values={:name=>\"so1\", :amount=>100, :client=>\"ASD\", :recognized=>false}>"
      ]
     },
     "execution_count": 23,
     "metadata": {},
     "output_type": "execute_result"
    }
   ],
   "source": [
    "so1 = SalesOrder.new ( \n",
    "    {name: \"so1\", \n",
    "    amount: 100,\n",
    "    client: \"ASD\", \n",
    "    recognized: false} )"
   ]
  },
  {
   "cell_type": "code",
   "execution_count": 24,
   "metadata": {},
   "outputs": [
    {
     "name": "stdout",
     "output_type": "stream",
     "text": [
      "Admin changed the following values for SO-1:\n",
      "{\n",
      "          :name => \"SO-1\",\n",
      "        :amount => 100,\n",
      "        :client => \"ASD\",\n",
      "    :recognized => false\n",
      "}\n",
      "New values:\n",
      "{\n",
      "          :name => \"SO-1\",\n",
      "        :amount => 100,\n",
      "        :client => \"ASD\",\n",
      "    :recognized => false\n",
      "}\n",
      "\n",
      "Admin changed the following values for so1:\n",
      "{\n",
      "          :name => \"so1\",\n",
      "        :amount => 100,\n",
      "        :client => \"ASD\",\n",
      "    :recognized => false\n",
      "}\n",
      "New values:\n",
      "{\n",
      "          :name => \"so1\",\n",
      "        :amount => 100,\n",
      "        :client => \"ASD\",\n",
      "    :recognized => false\n",
      "}\n",
      "\n"
     ]
    }
   ],
   "source": [
    "SalesOrder::Log.print"
   ]
  },
  {
   "cell_type": "code",
   "execution_count": 27,
   "metadata": {},
   "outputs": [
    {
     "name": "stdout",
     "output_type": "stream",
     "text": [
      "Invoice was created:\n",
      "{\n",
      "           :name => \"ASD-1\",\n",
      "         :amount => 100,\n",
      "    :paid_amount => 0,\n",
      "         :client => \"ASD\",\n",
      "        :is_paid => false\n",
      "}\n"
     ]
    },
    {
     "data": {
      "text/plain": [
       "#<#<Class:0x00000220366b6cc0>::Invoice:0x000002203661e1a0 @entity=:Invoice, @values={:name=>\"ASD-1\", :amount=>100, :paid_amount=>0, :client=>\"ASD\", :is_paid=>false}>"
      ]
     },
     "execution_count": 27,
     "metadata": {},
     "output_type": "execute_result"
    }
   ],
   "source": [
    "invoice1 = so1.create_invoice(\"ASD-1\")"
   ]
  },
  {
   "cell_type": "code",
   "execution_count": 28,
   "metadata": {},
   "outputs": [
    {
     "name": "stdout",
     "output_type": "stream",
     "text": [
      "Invoice was updated. New values:\n",
      "{\n",
      "           :name => \"ASD-3\",\n",
      "         :amount => 120,\n",
      "    :paid_amount => 0,\n",
      "         :client => \"ASD\",\n",
      "        :is_paid => false\n",
      "}\n"
     ]
    }
   ],
   "source": [
    "invoice1.update( amount: 120, name: \"ASD-3\"  )\n",
    "#invoice1.read([:amount, :is_paid])"
   ]
  },
  {
   "cell_type": "code",
   "execution_count": 29,
   "metadata": {},
   "outputs": [
    {
     "name": "stdout",
     "output_type": "stream",
     "text": [
      "Invoice was updated. New values:\n",
      "{\n",
      "           :name => \"ASD-3\",\n",
      "         :amount => 120,\n",
      "    :paid_amount => 20,\n",
      "         :client => \"ASD\",\n",
      "        :is_paid => false\n",
      "}\n"
     ]
    }
   ],
   "source": [
    "invoice1.pay(20)"
   ]
  },
  {
   "cell_type": "code",
   "execution_count": 30,
   "metadata": {},
   "outputs": [
    {
     "name": "stdout",
     "output_type": "stream",
     "text": [
      "Admin changed the following values for ASD-1:\n",
      "{\n",
      "           :name => \"ASD-1\",\n",
      "         :amount => 100,\n",
      "    :paid_amount => 0,\n",
      "         :client => \"ASD\",\n",
      "        :is_paid => false\n",
      "}\n",
      "New values:\n",
      "{\n",
      "           :name => \"ASD-1\",\n",
      "         :amount => 100,\n",
      "    :paid_amount => 0,\n",
      "         :client => \"ASD\",\n",
      "        :is_paid => false\n",
      "}\n",
      "\n",
      "Admin changed the following values for ASD-3:\n",
      "{\n",
      "    :amount => 120,\n",
      "      :name => \"ASD-3\"\n",
      "}\n",
      "New values:\n",
      "{\n",
      "           :name => \"ASD-3\",\n",
      "         :amount => 120,\n",
      "    :paid_amount => 0,\n",
      "         :client => \"ASD\",\n",
      "        :is_paid => false\n",
      "}\n",
      "\n",
      "Admin changed the following values for ASD-3:\n",
      "{\n",
      "    :paid_amount => 20\n",
      "}\n",
      "New values:\n",
      "{\n",
      "           :name => \"ASD-3\",\n",
      "         :amount => 120,\n",
      "    :paid_amount => 20,\n",
      "         :client => \"ASD\",\n",
      "        :is_paid => false\n",
      "}\n",
      "\n"
     ]
    }
   ],
   "source": [
    "Invoice::Log.print"
   ]
  },
  {
   "cell_type": "code",
   "execution_count": 31,
   "metadata": {},
   "outputs": [
    {
     "name": "stdout",
     "output_type": "stream",
     "text": [
      "Admin changed the following values for ASD-1:\n",
      "{\n",
      "           :name => \"ASD-1\",\n",
      "         :amount => 100,\n",
      "    :paid_amount => 0,\n",
      "         :client => \"ASD\",\n",
      "        :is_paid => false\n",
      "}\n",
      "New values:\n",
      "{\n",
      "           :name => \"ASD-1\",\n",
      "         :amount => 100,\n",
      "    :paid_amount => 0,\n",
      "         :client => \"ASD\",\n",
      "        :is_paid => false\n",
      "}\n",
      "\n"
     ]
    }
   ],
   "source": [
    "Invoice::Log.select_entries(amount: 100, is_paid: false)"
   ]
  },
  {
   "cell_type": "code",
   "execution_count": null,
   "metadata": {},
   "outputs": [],
   "source": [
    "Invoice::Log.clear_log"
   ]
  },
  {
   "cell_type": "code",
   "execution_count": 32,
   "metadata": {},
   "outputs": [
    {
     "name": "stdout",
     "output_type": "stream",
     "text": [
      "# ---------- #\n",
      "\n",
      "SalesOrder so1\n",
      "\n",
      "Name: so1\n",
      "Amount: 100\n",
      "Client: ASD\n",
      "Recognized: false\n",
      "\n",
      "# ---------- #\n"
     ]
    }
   ],
   "source": [
    "so1.print"
   ]
  },
  {
   "cell_type": "code",
   "execution_count": 33,
   "metadata": {},
   "outputs": [
    {
     "name": "stdout",
     "output_type": "stream",
     "text": [
      "# ---------- #\n",
      "\n",
      "Invoice ASD-3\n",
      "\n",
      "Name: ASD-3\n",
      "Amount: 120\n",
      "Paid_amount: 20\n",
      "Client: ASD\n",
      "Is_paid: false\n",
      "\n",
      "# ---------- #\n"
     ]
    }
   ],
   "source": [
    "invoice1.print"
   ]
  }
 ],
 "metadata": {
  "kernelspec": {
   "display_name": "Ruby 3 (iruby kernel)",
   "language": "ruby",
   "name": "ruby3"
  },
  "language_info": {
   "file_extension": ".rb",
   "mimetype": "application/x-ruby",
   "name": "ruby",
   "version": "3.3.4"
  }
 },
 "nbformat": 4,
 "nbformat_minor": 2
}
